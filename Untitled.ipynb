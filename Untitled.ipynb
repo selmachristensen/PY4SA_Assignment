{
 "cells": [
  {
   "cell_type": "code",
   "execution_count": 1,
   "id": "94ef1491-cbf0-4c32-9288-4879c538cb67",
   "metadata": {},
   "outputs": [
    {
     "ename": "SyntaxError",
     "evalue": "expected ':' (4195462847.py, line 10)",
     "output_type": "error",
     "traceback": [
      "\u001b[0;36m  Cell \u001b[0;32mIn[1], line 10\u001b[0;36m\u001b[0m\n\u001b[0;31m    for Ulmus in column\u001b[0m\n\u001b[0m                       ^\u001b[0m\n\u001b[0;31mSyntaxError\u001b[0m\u001b[0;31m:\u001b[0m expected ':'\n"
     ]
    }
   ],
   "source": [
    "fig, axs = plt\n",
    "handles, labels = axs.get_legend_handles_labels()\n",
    "axs.legend(handles=handles[1:], labels=labels[1:], title=\"Mag Source\", title_fontsize=12) # Optional\n",
    "\n",
    "file = pd.read_csv('portland_park_trees.csv')\n",
    "axs.set_title(\"Ulmus genus, DBH vs Tree Height\", fontsize=20, color=\"#000000\")\n",
    "sp1 = plt.scatter(data.DBH, data.TreeHeight)\n",
    "plt.show()\n",
    "\n",
    "for Ulmus in column\n",
    "\n",
    "--"
   ]
  },
  {
   "cell_type": "code",
   "execution_count": 2,
   "id": "29aa7e5f-57d5-43b3-8151-c50d28d22256",
   "metadata": {},
   "outputs": [
    {
     "ename": "NameError",
     "evalue": "name 'data' is not defined",
     "output_type": "error",
     "traceback": [
      "\u001b[0;31m---------------------------------------------------------------------------\u001b[0m",
      "\u001b[0;31mNameError\u001b[0m                                 Traceback (most recent call last)",
      "Cell \u001b[0;32mIn[2], line 1\u001b[0m\n\u001b[0;32m----> 1\u001b[0m data\u001b[38;5;241m.\u001b[39mcolumns \u001b[38;5;241m=\u001b[39m[column\u001b[38;5;241m.\u001b[39mreplace(\u001b[38;5;124m\"\u001b[39m\u001b[38;5;124m \u001b[39m\u001b[38;5;124m\"\u001b[39m, \u001b[38;5;124m\"\u001b[39m\u001b[38;5;124m_\u001b[39m\u001b[38;5;124m\"\u001b[39m) \u001b[38;5;28;01mfor\u001b[39;00m column \u001b[38;5;129;01min\u001b[39;00m \u001b[43mdata\u001b[49m\u001b[38;5;241m.\u001b[39mcolumns] \u001b[38;5;66;03m# Removing any spaces in the column names using list comprehension.\u001b[39;00m\n\u001b[1;32m      2\u001b[0m data\u001b[38;5;241m.\u001b[39mcolumns \u001b[38;5;241m=\u001b[39m[column\u001b[38;5;241m.\u001b[39mreplace(\u001b[38;5;124m\"\u001b[39m\u001b[38;5;124m'\u001b[39m\u001b[38;5;124m\"\u001b[39m, \u001b[38;5;124m\"\u001b[39m\u001b[38;5;124m2\u001b[39m\u001b[38;5;124m\"\u001b[39m) \u001b[38;5;28;01mfor\u001b[39;00m column \u001b[38;5;129;01min\u001b[39;00m data\u001b[38;5;241m.\u001b[39mcolumns] \u001b[38;5;66;03m# Removing any spaces in the column names using list comprehension.\u001b[39;00m\n\u001b[1;32m      3\u001b[0m data\u001b[38;5;241m.\u001b[39mcolumns \u001b[38;5;241m=\u001b[39m[column\u001b[38;5;241m.\u001b[39mreplace(\u001b[38;5;124m\"\u001b[39m\u001b[38;5;124m.\u001b[39m\u001b[38;5;124m\"\u001b[39m, \u001b[38;5;124m\"\u001b[39m\u001b[38;5;124m1\u001b[39m\u001b[38;5;124m\"\u001b[39m) \u001b[38;5;28;01mfor\u001b[39;00m column \u001b[38;5;129;01min\u001b[39;00m data\u001b[38;5;241m.\u001b[39mcolumns] \u001b[38;5;66;03m# Removing any spaces in the column names using list comprehension.\u001b[39;00m\n",
      "\u001b[0;31mNameError\u001b[0m: name 'data' is not defined"
     ]
    }
   ],
   "source": [
    "data.columns =[column.replace(\" \", \"_\") for column in data.columns] # Removing any spaces in the column names using list comprehension.\n",
    "data.columns =[column.replace(\"'\", \"2\") for column in data.columns] # Removing any spaces in the column names using list comprehension.\n",
    "data.columns =[column.replace(\".\", \"1\") for column in data.columns] # Removing any spaces in the column names using list comprehension.\n",
    "\n",
    "Ulmus_Genus_spec_sample_1 = data[(data[\"Genus_spec\"]==\"Ulmus_pumila\")]\n",
    "Ulmus_Genus_spec_sample_2 = data[(data[\"Genus_spec\"]==\"Ulmus_x\")]\n",
    "Ulmus_Genus_spec_sample_3 = data[(data[\"Genus_spec\"]==\"Ulmus_americana\")]\n",
    "Ulmus_Genus_spec_sample_4 = data[(data[\"Genus_spec\"]==\"Ulmus_alata\")]\n",
    "Ulmus_Genus_spec_sample_5 = data[(data[\"Genus_spec\"]==\"Ulmus_spp1\")]\n",
    "Ulmus_Genus_spec_sample_6 = data[(data[\"Genus_spec\"]==\"Ulmus_minor\")]\n",
    "Ulmus_Genus_spec_sample_7 = data[(data[\"Genus_spec\"]==\"Ulmus_glabra_2Camperdowniii2\")]\n",
    "Ulmus_Genus_spec_sample_8 = data[(data[\"Genus_spec\"]==\"japonica_x_wilsoniana\")]\n",
    "Ulmus_Genus_spec_sample_9 = data[(data[\"Genus_spec\"]==\"parfolia\")]\n",
    "fig1, axs = plt.subplots(3,3)\n",
    "axs[0,0].boxplot(Ulmus_Genus_spec_sample_1.DBH)\n",
    "axs[0,1].boxplot(Ulmus_Genus_spec_sample_2.DBH)\n",
    "axs[0,2].boxplot(Ulmus_Genus_spec_sample_3.DBH)\n",
    "axs[1,0].boxplot(Ulmus_Genus_spec_sample_4.DBH)\n",
    "axs[1,1].boxplot(Ulmus_Genus_spec_sample_5.DBH)\n",
    "axs[1,2].boxplot(Ulmus_Genus_spec_sample_6.DBH)\n",
    "axs[2,0].boxplot(Ulmus_Genus_spec_sample_7.DBH)\n",
    "axs[2,1].boxplot(Ulmus_Genus_spec_sample_8.DBH)\n",
    "axs[2,2].boxplot(Ulmus_Genus_spec_sample_9.DBH)\n",
    "plt.show(fig1)\n",
    "\n"
   ]
  },
  {
   "cell_type": "code",
   "execution_count": null,
   "id": "36c4bd17-330d-4d61-a8c1-64c96c08ae94",
   "metadata": {},
   "outputs": [],
   "source": []
  }
 ],
 "metadata": {
  "kernelspec": {
   "display_name": "Python 3 (ipykernel)",
   "language": "python",
   "name": "python3"
  },
  "language_info": {
   "codemirror_mode": {
    "name": "ipython",
    "version": 3
   },
   "file_extension": ".py",
   "mimetype": "text/x-python",
   "name": "python",
   "nbconvert_exporter": "python",
   "pygments_lexer": "ipython3",
   "version": "3.10.9"
  }
 },
 "nbformat": 4,
 "nbformat_minor": 5
}
