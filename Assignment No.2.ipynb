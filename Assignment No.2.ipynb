{
 "cells": [
  {
   "cell_type": "markdown",
   "id": "7afc7bb2-2bc7-41a3-86a5-e2dac387f9c3",
   "metadata": {},
   "source": [
    "# Assignment No. 2 - Selma Christensen \n",
    "## 180021112\n",
    "-----\n",
    "### https://github.com/selmachristensen/PY4SA3_Assignment\n"
   ]
  },
  {
   "cell_type": "markdown",
   "id": "5c3aafc2-e95e-4bc5-a5f2-efdbf377ec13",
   "metadata": {},
   "source": [
    "#### Python Basics"
   ]
  },
  {
   "cell_type": "markdown",
   "id": "52bb866e-4740-4a77-a464-a996b3feacae",
   "metadata": {},
   "source": [
    "----\n",
    "\n",
    "**Task 1**  Create an If...Else statement that will test whether a number is divisible by three. \"YOUR VALUE is divisible by 3\" should be printed if the value is divisible by three. \"YOUR VALUE is not divisible by three\" should be printed if it is not divisible by three. Test the statement on a numeric variable. Upper case text in the print statement should be replaced with the tested number"
   ]
  },
  {
   "cell_type": "code",
   "execution_count": 7,
   "id": "c5e08d05-9ddf-4eff-8468-aa6a493b964b",
   "metadata": {},
   "outputs": [
    {
     "name": "stdout",
     "output_type": "stream",
     "text": [
      "5 is not divisible by 3\n"
     ]
    }
   ],
   "source": [
    "x = 5\n",
    "\n",
    "if x/3 == 0:\n",
    "    print(f\"{x} is divisible by 3\")\n",
    "else:\n",
    "    print(f\"{x} is not divisible by 3\")\n",
    "    "
   ]
  },
  {
   "cell_type": "markdown",
   "id": "2d12d0c8-f5b4-48c1-952f-dbe154340928",
   "metadata": {},
   "source": [
    "----\n",
    "**Task 2** Create an If...Else statement that will test whether a type of fruit, represented as a text string, is in a list of acceptable fruits (apple, orange, pear, kiwi, or strawberry). If the fruit is on the list, the following should be printed: \"YOUR FRUIT is acceptable.\" If not, then the following should be printed: \"YOUR FRUIT is not acceptable.\" Upper case text in the print statement should be replaced with the tested fruit.\n"
   ]
  },
  {
   "cell_type": "code",
   "execution_count": 13,
   "id": "49c8807a-8514-455a-b2b4-9d9e42e281b7",
   "metadata": {},
   "outputs": [
    {
     "name": "stdout",
     "output_type": "stream",
     "text": [
      "STRAWBERRY is acceptable.\n"
     ]
    }
   ],
   "source": [
    "fruits = [\"apple\", \"orange\", \"pear\", \"kiwi\", \"strawberry\"]\n",
    "x = \"strawberry\"\n",
    "\n",
    "if x in fruits:\n",
    "    print(f\"{x.upper()} is acceptable.\")\n",
    "else:\n",
    "    print(f\"{x.upper()} is not acceptable.\")"
   ]
  },
  {
   "cell_type": "markdown",
   "id": "c9a45632-4c5c-48ac-afeb-02fb69962c41",
   "metadata": {},
   "source": [
    "---\n",
    "**Task 3** Create a function to calculate the distance between two coordinates using the haversine formula. Write the following formula where the input parameters are a pair of coordinates as two lists."
   ]
  },
  {
   "cell_type": "code",
   "execution_count": 6,
   "id": "bd8bb408-0f58-4402-9aba-fa75cc5a5699",
   "metadata": {},
   "outputs": [],
   "source": [
    "from math import radians, sin, cos, sqrt, atan2\n",
    "\n",
    "def distance_harvestine(coordinate1, coordinate2):\n",
    "    Earth_radius_in_km = 6371\n",
    "    latitude1, longitude1 = map(radians, coordinate1)\n",
    "    latitude2, longitude2 = map(radians, coordinate2)\n",
    "    distance_latitude = latitude2 - latitude1\n",
    "    distance_longitude = longitude2 - longitude1\n",
    "    a = sin(distance_latitude/2)**2 + cos(latitude1) * cos(latitude2) * sin(distance_longitude/2)**2\n",
    "    c = 2 * atan2(sqrt(a), sqrt(1-a))\n",
    "    distance = Earth_radius_in_km  * c\n",
    "    return distance"
   ]
  },
  {
   "cell_type": "code",
   "execution_count": 8,
   "id": "ecbd63be-e2ea-42fb-a758-411cb5be49d3",
   "metadata": {},
   "outputs": [
    {
     "name": "stdout",
     "output_type": "stream",
     "text": [
      "The distance between Edinburgh and St Andrews is 49.35 km\n"
     ]
    }
   ],
   "source": [
    "coordinate1 = [55.9533, -3.1883]  # Edinburgh\n",
    "coordinate2 = [56.3398, -2.7967]  # St. Andrews\n",
    "distance = distance_harvestine(coordinate1, coordinate2)\n",
    "print(f\"The distance between Edinburgh and St Andrews is {distance:.2f} km\")"
   ]
  },
  {
   "cell_type": "markdown",
   "id": "6fc4fb4c-0e98-436d-812b-dc85c52281ba",
   "metadata": {},
   "source": [
    "---\n",
    "### Pandas and NymPy\n",
    "\n",
    "The portland_park_trees.csv file contains information about individual trees in city parks in Portland, Oregon. These data were obtained from the City of Portland Office of Parks & Recreation (https://www.portlandoregon.gov/parks/article/433143)."
   ]
  },
  {
   "cell_type": "code",
   "execution_count": 52,
   "id": "ca02ff39-c381-4f3f-b768-d0c0619067b4",
   "metadata": {},
   "outputs": [
    {
     "data": {
      "text/html": [
       "<div>\n",
       "<style scoped>\n",
       "    .dataframe tbody tr th:only-of-type {\n",
       "        vertical-align: middle;\n",
       "    }\n",
       "\n",
       "    .dataframe tbody tr th {\n",
       "        vertical-align: top;\n",
       "    }\n",
       "\n",
       "    .dataframe thead th {\n",
       "        text-align: right;\n",
       "    }\n",
       "</style>\n",
       "<table border=\"1\" class=\"dataframe\">\n",
       "  <thead>\n",
       "    <tr style=\"text-align: right;\">\n",
       "      <th></th>\n",
       "      <th>fid</th>\n",
       "      <th>OBJECTID</th>\n",
       "      <th>Inventory_</th>\n",
       "      <th>Species</th>\n",
       "      <th>DBH</th>\n",
       "      <th>Condition</th>\n",
       "      <th>TreeHeight</th>\n",
       "      <th>CrownWidth</th>\n",
       "      <th>CrownWid_1</th>\n",
       "      <th>CollectedB</th>\n",
       "      <th>...</th>\n",
       "      <th>Genus</th>\n",
       "      <th>Common_nam</th>\n",
       "      <th>Genus_spec</th>\n",
       "      <th>Functional</th>\n",
       "      <th>Size</th>\n",
       "      <th>Native</th>\n",
       "      <th>Edible</th>\n",
       "      <th>Nuisance</th>\n",
       "      <th>Origin</th>\n",
       "      <th>Species_fa</th>\n",
       "    </tr>\n",
       "  </thead>\n",
       "  <tbody>\n",
       "    <tr>\n",
       "      <th>0</th>\n",
       "      <td>1</td>\n",
       "      <td>426</td>\n",
       "      <td>2017/05/09</td>\n",
       "      <td>PSME</td>\n",
       "      <td>37.4</td>\n",
       "      <td>Fair</td>\n",
       "      <td>105.0</td>\n",
       "      <td>44.0</td>\n",
       "      <td>57.0</td>\n",
       "      <td>staff</td>\n",
       "      <td>...</td>\n",
       "      <td>Pseudotsuga</td>\n",
       "      <td>Douglas-fir</td>\n",
       "      <td>Pseudotsuga menziesii</td>\n",
       "      <td>CE</td>\n",
       "      <td>L</td>\n",
       "      <td>Yes</td>\n",
       "      <td>NaN</td>\n",
       "      <td>NaN</td>\n",
       "      <td>North America - from British Columbia south to...</td>\n",
       "      <td>Bracts on cones look like a mouse's feet and t...</td>\n",
       "    </tr>\n",
       "    <tr>\n",
       "      <th>1</th>\n",
       "      <td>2</td>\n",
       "      <td>427</td>\n",
       "      <td>2017/05/09</td>\n",
       "      <td>PSME</td>\n",
       "      <td>32.5</td>\n",
       "      <td>Fair</td>\n",
       "      <td>94.0</td>\n",
       "      <td>49.0</td>\n",
       "      <td>45.0</td>\n",
       "      <td>staff</td>\n",
       "      <td>...</td>\n",
       "      <td>Pseudotsuga</td>\n",
       "      <td>Douglas-fir</td>\n",
       "      <td>Pseudotsuga menziesii</td>\n",
       "      <td>CE</td>\n",
       "      <td>L</td>\n",
       "      <td>Yes</td>\n",
       "      <td>NaN</td>\n",
       "      <td>NaN</td>\n",
       "      <td>North America - from British Columbia south to...</td>\n",
       "      <td>Bracts on cones look like a mouse's feet and t...</td>\n",
       "    </tr>\n",
       "    <tr>\n",
       "      <th>2</th>\n",
       "      <td>3</td>\n",
       "      <td>428</td>\n",
       "      <td>2017/05/09</td>\n",
       "      <td>CRLA</td>\n",
       "      <td>9.7</td>\n",
       "      <td>Fair</td>\n",
       "      <td>23.0</td>\n",
       "      <td>28.0</td>\n",
       "      <td>27.0</td>\n",
       "      <td>staff</td>\n",
       "      <td>...</td>\n",
       "      <td>Crataegus</td>\n",
       "      <td>Lavalle hawthorn</td>\n",
       "      <td>Crataegus x lavalleei</td>\n",
       "      <td>BD</td>\n",
       "      <td>S</td>\n",
       "      <td>No</td>\n",
       "      <td>NaN</td>\n",
       "      <td>NaN</td>\n",
       "      <td>North America - a hybrid between a Mexican and...</td>\n",
       "      <td>Like most hawthorns, the tree has stout thorns...</td>\n",
       "    </tr>\n",
       "    <tr>\n",
       "      <th>3</th>\n",
       "      <td>4</td>\n",
       "      <td>429</td>\n",
       "      <td>2017/05/09</td>\n",
       "      <td>QURU</td>\n",
       "      <td>10.3</td>\n",
       "      <td>Poor</td>\n",
       "      <td>28.0</td>\n",
       "      <td>38.0</td>\n",
       "      <td>31.0</td>\n",
       "      <td>staff</td>\n",
       "      <td>...</td>\n",
       "      <td>Quercus</td>\n",
       "      <td>northern red oak</td>\n",
       "      <td>Quercus rubra</td>\n",
       "      <td>BD</td>\n",
       "      <td>L</td>\n",
       "      <td>No</td>\n",
       "      <td>NaN</td>\n",
       "      <td>NaN</td>\n",
       "      <td>North America - eastern Canada and eastern USA...</td>\n",
       "      <td>Acorns take two years to mature and are an imp...</td>\n",
       "    </tr>\n",
       "    <tr>\n",
       "      <th>4</th>\n",
       "      <td>5</td>\n",
       "      <td>430</td>\n",
       "      <td>2017/05/09</td>\n",
       "      <td>PSME</td>\n",
       "      <td>33.2</td>\n",
       "      <td>Fair</td>\n",
       "      <td>102.0</td>\n",
       "      <td>43.0</td>\n",
       "      <td>44.0</td>\n",
       "      <td>staff</td>\n",
       "      <td>...</td>\n",
       "      <td>Pseudotsuga</td>\n",
       "      <td>Douglas-fir</td>\n",
       "      <td>Pseudotsuga menziesii</td>\n",
       "      <td>CE</td>\n",
       "      <td>L</td>\n",
       "      <td>Yes</td>\n",
       "      <td>NaN</td>\n",
       "      <td>NaN</td>\n",
       "      <td>North America - from British Columbia south to...</td>\n",
       "      <td>Bracts on cones look like a mouse's feet and t...</td>\n",
       "    </tr>\n",
       "  </tbody>\n",
       "</table>\n",
       "<p>5 rows × 40 columns</p>\n",
       "</div>"
      ],
      "text/plain": [
       "   fid  OBJECTID  Inventory_ Species   DBH Condition  TreeHeight  CrownWidth  \\\n",
       "0    1       426  2017/05/09    PSME  37.4      Fair       105.0        44.0   \n",
       "1    2       427  2017/05/09    PSME  32.5      Fair        94.0        49.0   \n",
       "2    3       428  2017/05/09    CRLA   9.7      Fair        23.0        28.0   \n",
       "3    4       429  2017/05/09    QURU  10.3      Poor        28.0        38.0   \n",
       "4    5       430  2017/05/09    PSME  33.2      Fair       102.0        43.0   \n",
       "\n",
       "   CrownWid_1 CollectedB  ...        Genus        Common_nam  \\\n",
       "0        57.0      staff  ...  Pseudotsuga       Douglas-fir   \n",
       "1        45.0      staff  ...  Pseudotsuga       Douglas-fir   \n",
       "2        27.0      staff  ...    Crataegus  Lavalle hawthorn   \n",
       "3        31.0      staff  ...      Quercus  northern red oak   \n",
       "4        44.0      staff  ...  Pseudotsuga       Douglas-fir   \n",
       "\n",
       "              Genus_spec Functional Size Native Edible Nuisance  \\\n",
       "0  Pseudotsuga menziesii         CE    L    Yes    NaN      NaN   \n",
       "1  Pseudotsuga menziesii         CE    L    Yes    NaN      NaN   \n",
       "2  Crataegus x lavalleei         BD    S     No    NaN      NaN   \n",
       "3          Quercus rubra         BD    L     No    NaN      NaN   \n",
       "4  Pseudotsuga menziesii         CE    L    Yes    NaN      NaN   \n",
       "\n",
       "                                              Origin  \\\n",
       "0  North America - from British Columbia south to...   \n",
       "1  North America - from British Columbia south to...   \n",
       "2  North America - a hybrid between a Mexican and...   \n",
       "3  North America - eastern Canada and eastern USA...   \n",
       "4  North America - from British Columbia south to...   \n",
       "\n",
       "                                          Species_fa  \n",
       "0  Bracts on cones look like a mouse's feet and t...  \n",
       "1  Bracts on cones look like a mouse's feet and t...  \n",
       "2  Like most hawthorns, the tree has stout thorns...  \n",
       "3  Acorns take two years to mature and are an imp...  \n",
       "4  Bracts on cones look like a mouse's feet and t...  \n",
       "\n",
       "[5 rows x 40 columns]"
      ]
     },
     "execution_count": 52,
     "metadata": {},
     "output_type": "execute_result"
    }
   ],
   "source": [
    "import pandas as pd\n",
    "data = pd.read_csv('portland_park_trees.csv')\n",
    "data.head()"
   ]
  },
  {
   "cell_type": "markdown",
   "id": "8bd2daa3-7422-437a-ba20-cda8a3b95d72",
   "metadata": {},
   "source": [
    "----\n",
    "**Question 1** How many trees are of the Quercus or Acer genus?"
   ]
  },
  {
   "cell_type": "code",
   "execution_count": 80,
   "id": "67e2dc0a-91c3-4735-9cdc-6e78167d1f4e",
   "metadata": {},
   "outputs": [
    {
     "name": "stdout",
     "output_type": "stream",
     "text": [
      "5675\n"
     ]
    }
   ],
   "source": [
    "data = pd.read_csv('portland_park_trees.csv')\n",
    "\n",
    "data.Genus\n",
    "\n",
    "amount_of_quercus_or_acer = len(data[data['Genus'].isin(['Quercus', 'Acer'])])\n",
    "\n",
    "print(amount_of_quercus_or_acer)\n"
   ]
  },
  {
   "cell_type": "markdown",
   "id": "9b00d33a-6e5f-4910-979d-420d587bb85a",
   "metadata": {},
   "source": [
    "----\n",
    "**Question 2** How many trees are of the Quercus or Acer genus and have a DBH larger than 50 inches?"
   ]
  },
  {
   "cell_type": "code",
   "execution_count": 81,
   "id": "633a3138-7d89-48e1-8161-f198f7530a05",
   "metadata": {},
   "outputs": [
    {
     "ename": "ValueError",
     "evalue": "The truth value of a DataFrame is ambiguous. Use a.empty, a.bool(), a.item(), a.any() or a.all().",
     "output_type": "error",
     "traceback": [
      "\u001b[0;31m---------------------------------------------------------------------------\u001b[0m",
      "\u001b[0;31mValueError\u001b[0m                                Traceback (most recent call last)",
      "Cell \u001b[0;32mIn[82], line 7\u001b[0m\n\u001b[1;32m      3\u001b[0m quercus_or_acer \u001b[38;5;241m=\u001b[39m (data[data[\u001b[38;5;124m'\u001b[39m\u001b[38;5;124mGenus\u001b[39m\u001b[38;5;124m'\u001b[39m]\u001b[38;5;241m.\u001b[39misin([\u001b[38;5;124m'\u001b[39m\u001b[38;5;124mQuercus\u001b[39m\u001b[38;5;124m'\u001b[39m, \u001b[38;5;124m'\u001b[39m\u001b[38;5;124mAcer\u001b[39m\u001b[38;5;124m'\u001b[39m])])\n\u001b[1;32m      5\u001b[0m DBH_large_than_50_inches \u001b[38;5;241m=\u001b[39m data[\u001b[38;5;124m'\u001b[39m\u001b[38;5;124mDBH\u001b[39m\u001b[38;5;124m'\u001b[39m] \u001b[38;5;241m>\u001b[39m \u001b[38;5;241m50\u001b[39m\n\u001b[0;32m----> 7\u001b[0m quercus_or_acer_with_DBH_large_than_50_inches \u001b[38;5;241m=\u001b[39m data[quercus_or_acer \u001b[38;5;129;01mand\u001b[39;00m DBH_large_than_50_inches]\n\u001b[1;32m      9\u001b[0m amount_of_trees\u001b[38;5;241m=\u001b[39m\u001b[38;5;28mlen\u001b[39m(quercus_or_acer_with_DBH_large_than_50_inches)\n\u001b[1;32m     11\u001b[0m \u001b[38;5;28mprint\u001b[39m(amount_of_trees)\n",
      "File \u001b[0;32m~/miniconda3/envs/py4sa/lib/python3.10/site-packages/pandas/core/generic.py:1527\u001b[0m, in \u001b[0;36mNDFrame.__nonzero__\u001b[0;34m(self)\u001b[0m\n\u001b[1;32m   1525\u001b[0m \u001b[38;5;129m@final\u001b[39m\n\u001b[1;32m   1526\u001b[0m \u001b[38;5;28;01mdef\u001b[39;00m \u001b[38;5;21m__nonzero__\u001b[39m(\u001b[38;5;28mself\u001b[39m) \u001b[38;5;241m-\u001b[39m\u001b[38;5;241m>\u001b[39m NoReturn:\n\u001b[0;32m-> 1527\u001b[0m     \u001b[38;5;28;01mraise\u001b[39;00m \u001b[38;5;167;01mValueError\u001b[39;00m(\n\u001b[1;32m   1528\u001b[0m         \u001b[38;5;124mf\u001b[39m\u001b[38;5;124m\"\u001b[39m\u001b[38;5;124mThe truth value of a \u001b[39m\u001b[38;5;132;01m{\u001b[39;00m\u001b[38;5;28mtype\u001b[39m(\u001b[38;5;28mself\u001b[39m)\u001b[38;5;241m.\u001b[39m\u001b[38;5;18m__name__\u001b[39m\u001b[38;5;132;01m}\u001b[39;00m\u001b[38;5;124m is ambiguous. \u001b[39m\u001b[38;5;124m\"\u001b[39m\n\u001b[1;32m   1529\u001b[0m         \u001b[38;5;124m\"\u001b[39m\u001b[38;5;124mUse a.empty, a.bool(), a.item(), a.any() or a.all().\u001b[39m\u001b[38;5;124m\"\u001b[39m\n\u001b[1;32m   1530\u001b[0m     )\n",
      "\u001b[0;31mValueError\u001b[0m: The truth value of a DataFrame is ambiguous. Use a.empty, a.bool(), a.item(), a.any() or a.all()."
     ]
    }
   ],
   "source": [
    "data = pd.read_csv('portland_park_trees.csv')\n",
    "\n",
    "quercus_or_acer = (data[data['Genus'].isin(['Quercus', 'Acer'])])\n",
    "\n",
    "DBH_large_than_50_inches = data['DBH'] > 50\n",
    "\n",
    "quercus_or_acer_with_DBH_large_than_50_inches = data[quercus_or_acer and DBH_large_than_50_inches]\n",
    "\n",
    "amount_of_trees=len(quercus_or_acer_with_DBH_large_than_50_inches)\n",
    "\n",
    "print(amount_of_trees)"
   ]
  },
  {
   "cell_type": "markdown",
   "id": "a5014819-d12a-471d-8307-185a761b42da",
   "metadata": {},
   "source": [
    "---\n",
    "**Question 3** Which genus has the highest mean DBH of the following genera: Quercus, Acer, or Fraxinus?"
   ]
  },
  {
   "cell_type": "code",
   "execution_count": null,
   "id": "c3cf864c-f68e-42bd-8dea-52deee5601e3",
   "metadata": {},
   "outputs": [],
   "source": []
  },
  {
   "cell_type": "markdown",
   "id": "9fe6ecf0-f284-499f-8e4b-33cc96d41122",
   "metadata": {},
   "source": [
    "---\n",
    "**Question 4** How many different species of trees are recorded in the Acer genus?"
   ]
  },
  {
   "cell_type": "code",
   "execution_count": null,
   "id": "98943ee4-e2cd-46d2-9654-adb2525abde3",
   "metadata": {},
   "outputs": [],
   "source": []
  },
  {
   "cell_type": "markdown",
   "id": "d8a29356-3678-4df1-a87f-2e67f37d93b5",
   "metadata": {},
   "source": [
    "---\n",
    "**Question 5**\n",
    "\n",
    "1. Calculate a new column named \"pop_M\" (population in millions), by transforming the \"pop\" (population) column.\n",
    "2. Remove the original \"pop\" column.\n",
    "3. Choose/subset a city that starts with the same letter as your first name (for example,\n",
    "\"Mexico City\" if your first name is Michael).\n",
    "4. Subset the five biggest (i.e., largest population sizes) cities from the country where your\n",
    "selected city is.\n",
    "5. Print the result.\n",
    "6. Make sure you write the scripts in different code cells where you describe the process."
   ]
  },
  {
   "cell_type": "code",
   "execution_count": null,
   "id": "7285636f-754e-4809-9816-8c53898f4703",
   "metadata": {},
   "outputs": [],
   "source": []
  },
  {
   "cell_type": "markdown",
   "id": "1c8fb7fd-b621-44f2-88dd-f2f4ba77aa39",
   "metadata": {},
   "source": [
    "---\n",
    "### Python Data Visualization\n",
    "Using the same dataset portland_park_trees.csv, create using seaborn, pandas or matplotlib libraries the following charts:"
   ]
  },
  {
   "cell_type": "markdown",
   "id": "dc7dcedf-87de-4f93-aa55-16e9179b64ae",
   "metadata": {},
   "source": [
    "---\n",
    "**Graph 1** Create a scatterplot for just trees in the Ulmus genus with DBH mapped to the x-axis and tree height mapped to the y-axis (Hint: You will need to use the “Genus”, “DBH”, and “TreeHeight” attributes.)."
   ]
  },
  {
   "cell_type": "code",
   "execution_count": null,
   "id": "b64fe78e-5fa9-4457-a2ce-2cbf45069379",
   "metadata": {},
   "outputs": [],
   "source": []
  },
  {
   "cell_type": "markdown",
   "id": "6a98799e-c9c1-400f-95a2-1560b8d51bb5",
   "metadata": {},
   "source": [
    "---\n",
    "**Graph 2** Create a scatterplot for just trees in the Ulmus genus with DBH mapped to the x-axis, tree height mapped to the y-axis, and tree species mapped to hue (Hint: You will need to use the “Genus”, “Genus_spec”, “DBH”, and “TreeHeight” attributes.)"
   ]
  },
  {
   "cell_type": "code",
   "execution_count": null,
   "id": "5075e2f5-83c2-4622-a867-82616daf6b1b",
   "metadata": {},
   "outputs": [],
   "source": []
  },
  {
   "cell_type": "markdown",
   "id": "ff0a70ed-7261-47b3-ad4a-7997754237dc",
   "metadata": {},
   "source": [
    "---\n",
    "**Graph 3** Create a boxplot of DBH for just the Ulmus genus differentiated by species (or, each species should have its own boxplot)."
   ]
  },
  {
   "cell_type": "code",
   "execution_count": null,
   "id": "8381d549-719f-417b-bfc4-9a43cf7f3d24",
   "metadata": {},
   "outputs": [],
   "source": []
  },
  {
   "cell_type": "markdown",
   "id": "0d9acce3-4a42-495c-b438-c25ad7b6cb7a",
   "metadata": {},
   "source": [
    "---\n",
    "**Graph 4** Combine Graphs 1 and 3 into a single figure. Do not plot a legend for any of the graphs."
   ]
  },
  {
   "cell_type": "code",
   "execution_count": null,
   "id": "707bb81f-e862-4407-b7fa-0e78215401cf",
   "metadata": {},
   "outputs": [],
   "source": []
  },
  {
   "cell_type": "markdown",
   "id": "7abe9526-5f28-46cb-986f-e587b62485c5",
   "metadata": {},
   "source": [
    "---\n",
    "### Python GeoPandas\n",
    "\n",
    "Go to the Spatial Data Portal of Scotland and find any spatial data that you find interesting in a shapefile format. Download this data and Produce code to complete the requested tasks."
   ]
  },
  {
   "cell_type": "markdown",
   "id": "55045b91-4dbc-4bc7-a123-f33ee3e4a306",
   "metadata": {},
   "source": [
    "---\n",
    "**Task 1** Read the selected dataset as GeoPandas DataFrame"
   ]
  },
  {
   "cell_type": "code",
   "execution_count": null,
   "id": "5e0becdc-546f-422b-9121-b8e6446c45b5",
   "metadata": {},
   "outputs": [],
   "source": []
  },
  {
   "cell_type": "markdown",
   "id": "30a27ab1-1a70-4679-aef2-757cc1086eb2",
   "metadata": {},
   "source": [
    "---\n",
    "**Task 2** Use the correct code to plot the first 5 and the last 5 sets of records in your selected dataset."
   ]
  },
  {
   "cell_type": "code",
   "execution_count": null,
   "id": "ad3af012-9c8c-4a78-8ba1-6a5183959e91",
   "metadata": {},
   "outputs": [],
   "source": []
  },
  {
   "cell_type": "markdown",
   "id": "08a44ef6-45e6-46d9-b9cf-988135d0a12b",
   "metadata": {},
   "source": [
    "---\n",
    "**Task 3**  Create a map where you can explore the selected dataset. Try to plot the map using some categorical attribute. Include a ToolTip."
   ]
  },
  {
   "cell_type": "code",
   "execution_count": null,
   "id": "22872699-72b5-4863-921a-ccc3037b6714",
   "metadata": {},
   "outputs": [],
   "source": []
  },
  {
   "cell_type": "markdown",
   "id": "dd4aa4ef-8e30-443f-8739-43fe6d53da03",
   "metadata": {},
   "source": [
    "---\n",
    "**Task 4** What is the Coordinate Reference System of the selected dataset?"
   ]
  },
  {
   "cell_type": "code",
   "execution_count": null,
   "id": "85800a6e-14db-4014-a784-e463628f163e",
   "metadata": {},
   "outputs": [],
   "source": []
  },
  {
   "cell_type": "markdown",
   "id": "3fb2e21f-3a58-445e-8c75-e9ac796ccd7e",
   "metadata": {},
   "source": [
    "---\n",
    "**Task 5** How many features does the selected dataset contain?"
   ]
  },
  {
   "cell_type": "code",
   "execution_count": null,
   "id": "937b22d5-b7f3-47cb-90a0-b001240b1af3",
   "metadata": {},
   "outputs": [],
   "source": []
  },
  {
   "cell_type": "markdown",
   "id": "a37640ea-825f-42d0-bb8b-08bee138e5c1",
   "metadata": {},
   "source": [
    "---\n",
    "**Task 6** Define a sub-setting criterion to create a new geopandas dataframe where you filter the selected dataset based on a categorical attribute."
   ]
  },
  {
   "cell_type": "code",
   "execution_count": null,
   "id": "d89473ac-d597-4362-8c78-056830be076d",
   "metadata": {},
   "outputs": [],
   "source": []
  },
  {
   "cell_type": "markdown",
   "id": "125b0a4f-0705-4376-a684-4dc421b4aee6",
   "metadata": {},
   "source": [
    "---\n",
    "**Task 7** Define a sub-setting criterion to create a new geopandas dataframe where you filter the selected dataset based on a numerical attribute."
   ]
  },
  {
   "cell_type": "code",
   "execution_count": null,
   "id": "9988aef1-dcf6-4506-9b07-61807263ab42",
   "metadata": {},
   "outputs": [],
   "source": []
  },
  {
   "cell_type": "markdown",
   "id": "3c75871f-1fc0-4e29-953a-b293568e0f46",
   "metadata": {},
   "source": [
    "---\n",
    "**Task 8** Plot the new/filtered geopandas dataframe using one of the attributes to create a choropleth map. "
   ]
  },
  {
   "cell_type": "code",
   "execution_count": null,
   "id": "2bc94ce7-fce8-4bbf-ad4b-d34ee6571b75",
   "metadata": {},
   "outputs": [],
   "source": []
  },
  {
   "cell_type": "markdown",
   "id": "dd20c720-0cb0-4ed0-9847-c26bb96bf74b",
   "metadata": {},
   "source": [
    "---\n",
    "### Python Rasterrio\n",
    "\n",
    "The dataset for this part of the assignment is elev.tif a 30 m spatial resolution digital elevation model (DEM) derived from the National Elevation Dataset (NED) in Canada with elevation in meters."
   ]
  },
  {
   "cell_type": "markdown",
   "id": "5a8bc4f9-36d8-470b-b275-076227205154",
   "metadata": {},
   "source": [
    "---\n",
    "**Task 1** Read the file as a rasterio dataset"
   ]
  },
  {
   "cell_type": "code",
   "execution_count": null,
   "id": "c7378608-e913-4e97-97e9-53a0979b55c0",
   "metadata": {},
   "outputs": [],
   "source": []
  },
  {
   "cell_type": "markdown",
   "id": "942b5218-7e24-42c5-a8d5-398e06ae5ef1",
   "metadata": {},
   "source": [
    "---\n",
    "**Task 2** What is the CRS of the dataset?"
   ]
  },
  {
   "cell_type": "code",
   "execution_count": null,
   "id": "2b778a34-f802-4bbc-b99e-06feb3ece6fb",
   "metadata": {},
   "outputs": [],
   "source": []
  },
  {
   "cell_type": "markdown",
   "id": "b405b4ba-449b-43de-bb2f-ce4766aaf7ef",
   "metadata": {},
   "source": [
    "---\n",
    "**Task 3** Describe the raster dataset regarding the raster extent (bounds), the reference system, and how many bands are in this dataset."
   ]
  },
  {
   "cell_type": "code",
   "execution_count": null,
   "id": "7037652e-a0b4-4874-a27b-87692f8c1623",
   "metadata": {},
   "outputs": [],
   "source": []
  },
  {
   "cell_type": "markdown",
   "id": "98da83f0-a5b2-40bb-ad3d-4372d8149c7a",
   "metadata": {},
   "source": [
    "---\n",
    "**Task 4** Create a plot/map of the raster dataset."
   ]
  },
  {
   "cell_type": "code",
   "execution_count": null,
   "id": "d5874982-54df-4332-8d19-3d4aa6cf491e",
   "metadata": {},
   "outputs": [],
   "source": []
  },
  {
   "cell_type": "markdown",
   "id": "f406b8bd-0314-4cbc-b136-d05db43d654c",
   "metadata": {},
   "source": [
    "---\n",
    "**Task 5** Create Histograms from the raster."
   ]
  },
  {
   "cell_type": "code",
   "execution_count": null,
   "id": "dba252e6-e72f-4d93-b0c0-5f340192047c",
   "metadata": {},
   "outputs": [],
   "source": []
  }
 ],
 "metadata": {
  "kernelspec": {
   "display_name": "Python 3 (ipykernel)",
   "language": "python",
   "name": "python3"
  },
  "language_info": {
   "codemirror_mode": {
    "name": "ipython",
    "version": 3
   },
   "file_extension": ".py",
   "mimetype": "text/x-python",
   "name": "python",
   "nbconvert_exporter": "python",
   "pygments_lexer": "ipython3",
   "version": "3.10.9"
  }
 },
 "nbformat": 4,
 "nbformat_minor": 5
}
